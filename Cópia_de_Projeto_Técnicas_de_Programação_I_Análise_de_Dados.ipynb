{
  "nbformat": 4,
  "nbformat_minor": 0,
  "metadata": {
    "colab": {
      "provenance": [],
      "include_colab_link": true
    },
    "kernelspec": {
      "name": "python3",
      "display_name": "Python 3"
    },
    "language_info": {
      "name": "python"
    }
  },
  "cells": [
    {
      "cell_type": "markdown",
      "metadata": {
        "id": "view-in-github",
        "colab_type": "text"
      },
      "source": [
        "<a href=\"https://colab.research.google.com/github/feericasf/Projeto_T-cnicas_de_Programa-oI_An-lise_de_Dados/blob/main/C%C3%B3pia_de_Projeto_T%C3%A9cnicas_de_Programa%C3%A7%C3%A3o_I_An%C3%A1lise_de_Dados.ipynb\" target=\"_parent\"><img src=\"https://colab.research.google.com/assets/colab-badge.svg\" alt=\"Open In Colab\"/></a>"
      ]
    },
    {
      "cell_type": "markdown",
      "source": [
        "## Análise de Dados - Cursos plataforma de ensino *online*\n",
        "\n",
        "A análise de dados é uma ferramenta essencial para impulsionar os negócios de uma empresa, e consequentemente, agregar valor.\n",
        "<br>\n",
        "<br>\n",
        "Um dos profissionais necessários para a geração de valor para empresas, é o cientista/analista de dados. Este profissional é capaz de retirar insights de diversas fontes de dados.\n",
        "<br>\n",
        "<br>\n",
        "Dito tudo isso, você, como cientista/analista de dados recebeu a missão de analisar dados de uma empresa ensino online de tecnologia. Seu principal objetivo, é através dos dados (disponibilizados na <a href=\"https://drive.google.com/file/d/1PE-9PTK5twBuUOuuKAk3Oo02Is8Dr8q-/view?usp=share_link\">pasta compartilhada</a> deste módulo), é o de responder algumas perguntas de negócios para auxiliar a empresa a aprimorar os seus serviços e produtos.\n",
        "<br>\n",
        "<br>\n",
        "Detalhes da base de dados podem ser vistos na plataforma Kaggle pelo <a href=\"https://www.kaggle.com/datasets/thedevastator/udemy-courses-revenue-generation-and-course-anal\">link</a>\n",
        "<br>\n",
        "<br>\n",
        "Para isso, use os conhecimentos obtidos neste módulo (e anteriores) para responder as seguintes questões:\n",
        "\n",
        "**Dicas:**\n",
        "\n",
        "- Serão três diferentes bases de dados disponibilizadas na pasta do módulo, separadas por assunto (curso). Porém, todas elas contêm o mesmo cabeçalho. Logo, para que consiga responder as perguntas abaixo, unifique-as em um único **DataFrame** do pandas, e realize as análises.\n",
        "- Não é necessário criar gráficos/visualizações para apresentar os resultados de cada pergunta. Porém, se você estiver confortável para criá-los quando necessário, fique à vontade."
      ],
      "metadata": {
        "id": "OwnjctYVYDiH"
      }
    },
    {
      "cell_type": "markdown",
      "source": [
        "### Perguntas a serem respondidas a partir dos dados."
      ],
      "metadata": {
        "id": "CAutWLQXtZm1"
      }
    },
    {
      "cell_type": "markdown",
      "source": [
        "1. Quantos cursos estão disponíveis na plataforma?"
      ],
      "metadata": {
        "id": "LxbUDG_aoEJX"
      }
    },
    {
      "cell_type": "code",
      "source": [
        "import numpy as np\n",
        "import pandas as pd"
      ],
      "metadata": {
        "id": "JVc3skEVoPr8"
      },
      "execution_count": 2,
      "outputs": []
    },
    {
      "cell_type": "code",
      "source": [
        "business = pd.read_csv(\"/content/3.1-data-sheet-udemy-courses-business-courses.csv\")\n",
        "design = pd.read_csv(\"/content/3.1-data-sheet-udemy-courses-design-courses.csv\")\n",
        "music = pd.read_csv(\"/content/3.1-data-sheet-udemy-courses-music-courses.csv\")\n",
        "web = pd.read_csv(\"/content/3.1-data-sheet-udemy-courses-web-development.csv\")\n",
        "\n",
        "op_cursos = pd.concat([business, design, music, web])\n",
        "\n",
        "len(op_cursos['course_id'])\n",
        "\n",
        "total_cursos = op_cursos['course_id'].unique()\n",
        "total = len(total_cursos)\n",
        "\n",
        "print(f\"O total de cursos disponíveis na nossa plataforma é de {total}.\")"
      ],
      "metadata": {
        "colab": {
          "base_uri": "https://localhost:8080/"
        },
        "id": "33jQO1Q6d-Vk",
        "outputId": "ddf517ca-2056-4e10-8ac7-ab96637902c6"
      },
      "execution_count": 15,
      "outputs": [
        {
          "output_type": "stream",
          "name": "stdout",
          "text": [
            "O total de cursos disponíveis na nossa plataforma é de 3673.\n"
          ]
        }
      ]
    },
    {
      "cell_type": "markdown",
      "source": [
        "2. Quais e quantos são os cursos que abordam o assunto: JavaScript?"
      ],
      "metadata": {
        "id": "eFKSLDeyoQCF"
      }
    },
    {
      "cell_type": "code",
      "source": [
        "op_cursos[\"course_title\"] = op_cursos[\"course_title\"].str.lower()\n",
        "java = op_cursos[op_cursos['course_title'].str.contains('javascript', na= False)]\n",
        "qnt_java = len(java)\n",
        "java_cursos = java[['course_title']]\n",
        "total = len(total_cursos)\n",
        "\n",
        "print(f\"A plataforma disponibiliza um total de {total}, sendo que desses cursos {qnt_java} são em JavaScprit. \\nOs cursos são: {java_cursos}.\")"
      ],
      "metadata": {
        "id": "z1cLUiw8okVI",
        "colab": {
          "base_uri": "https://localhost:8080/"
        },
        "outputId": "dd5abac2-d53f-4b81-ceb3-e9f6532e1fa5"
      },
      "execution_count": 18,
      "outputs": [
        {
          "output_type": "stream",
          "name": "stdout",
          "text": [
            "A plataforma disponibiliza um total de 3673, sendo que desses cursos 137 são em JavaScprit. \n",
            "Os cursos são:                                            course_title\n",
            "6                learn javascript & jquery from scratch\n",
            "8             javascript: understanding the weird parts\n",
            "23    learning dynamic website design - php mysql an...\n",
            "24                                javascript essentials\n",
            "36    the complete javascript course for web develop...\n",
            "...                                                 ...\n",
            "1126                let's javascript! code a calculator\n",
            "1136  advance javascript for coders: learn oop in ja...\n",
            "1139  17 complete javascript projects explained step...\n",
            "1156  popular javascript framework:learn the languag...\n",
            "1162  the complete javascript, html and css tutorial...\n",
            "\n",
            "[137 rows x 1 columns].\n"
          ]
        }
      ]
    },
    {
      "cell_type": "markdown",
      "source": [
        "3. Qual é o preço médio (coluna *price*) dos cursos oferecidos na plataforma?"
      ],
      "metadata": {
        "id": "G4cUox4RooOk"
      }
    },
    {
      "cell_type": "code",
      "source": [
        "valor_cursos = np.round(op_cursos[[\"price\"]].mean(), 2)\n",
        "\n",
        "print(f\"O valor médio dos cursos é {valor_cursos}.\")"
      ],
      "metadata": {
        "id": "FKOIIjcVo3xg",
        "colab": {
          "base_uri": "https://localhost:8080/"
        },
        "outputId": "e8b3dcb9-9b4c-48c5-a1b1-75db0b7587db"
      },
      "execution_count": 20,
      "outputs": [
        {
          "output_type": "stream",
          "name": "stdout",
          "text": [
            "O valor médio dos cursos é price    66.12\n",
            "dtype: float64.\n"
          ]
        }
      ]
    },
    {
      "cell_type": "markdown",
      "source": [
        "4. Quais são os cinco cursos com maior número de inscritos (coluna *num_subscribers*)?"
      ],
      "metadata": {
        "id": "e-zGn_o0o2go"
      }
    },
    {
      "cell_type": "code",
      "source": [
        "inscritos = op_cursos.sort_values(by=\"num_subscribers\", ascending = False).reset_index()\n",
        "inscritos.head()"
      ],
      "metadata": {
        "id": "ewd5ZmqcpFND",
        "colab": {
          "base_uri": "https://localhost:8080/",
          "height": 461
        },
        "outputId": "ec412c14-134a-46fd-a9fa-6a3a2992ef30"
      },
      "execution_count": 22,
      "outputs": [
        {
          "output_type": "execute_result",
          "data": {
            "text/plain": [
              "   index  course_id                                       course_title  \\\n",
              "0      0    41295.0               learn html5 programming from scratch   \n",
              "1      1    59014.0                     coding for entrepreneurs basic   \n",
              "2      2   625204.0                         the web developer bootcamp   \n",
              "3      3   173548.0  build your first website in 1 week with html5 ...   \n",
              "4      4   764164.0              the complete web developer course 2.0   \n",
              "\n",
              "                                                 url  price  num_subscribers  \\\n",
              "0  https://www.udemy.com/learn-html5-programming-...    0.0         268923.0   \n",
              "1  https://www.udemy.com/coding-for-entrepreneurs...    0.0         161029.0   \n",
              "2  https://www.udemy.com/the-web-developer-bootcamp/  200.0         121584.0   \n",
              "3  https://www.udemy.com/build-your-first-website...    0.0         120291.0   \n",
              "4  https://www.udemy.com/the-complete-web-develop...  200.0         114512.0   \n",
              "\n",
              "   num_reviews  num_lectures           level  Rating  content_duration  \\\n",
              "0       8629.0          45.0  Beginner Level    0.82              10.5   \n",
              "1        279.0          27.0    Expert Level    0.69               3.5   \n",
              "2      27445.0         342.0  Beginner Level    0.89              43.0   \n",
              "3       5924.0          30.0      All Levels    0.78               3.0   \n",
              "4      22412.0         304.0  Beginner Level    0.55              30.5   \n",
              "\n",
              "    published_timestamp                   subject  \n",
              "0  2013-02-14T07:03:41Z  Subject: Web Development  \n",
              "1  2013-06-09T15:51:55Z  Subject: Web Development  \n",
              "2  2015-11-02T21:13:27Z  Subject: Web Development  \n",
              "3  2014-04-08T16:21:30Z  Subject: Web Development  \n",
              "4  2016-03-08T22:28:36Z  Subject: Web Development  "
            ],
            "text/html": [
              "\n",
              "  <div id=\"df-71ab797d-d406-4b21-907a-d58a4ccf9e11\">\n",
              "    <div class=\"colab-df-container\">\n",
              "      <div>\n",
              "<style scoped>\n",
              "    .dataframe tbody tr th:only-of-type {\n",
              "        vertical-align: middle;\n",
              "    }\n",
              "\n",
              "    .dataframe tbody tr th {\n",
              "        vertical-align: top;\n",
              "    }\n",
              "\n",
              "    .dataframe thead th {\n",
              "        text-align: right;\n",
              "    }\n",
              "</style>\n",
              "<table border=\"1\" class=\"dataframe\">\n",
              "  <thead>\n",
              "    <tr style=\"text-align: right;\">\n",
              "      <th></th>\n",
              "      <th>index</th>\n",
              "      <th>course_id</th>\n",
              "      <th>course_title</th>\n",
              "      <th>url</th>\n",
              "      <th>price</th>\n",
              "      <th>num_subscribers</th>\n",
              "      <th>num_reviews</th>\n",
              "      <th>num_lectures</th>\n",
              "      <th>level</th>\n",
              "      <th>Rating</th>\n",
              "      <th>content_duration</th>\n",
              "      <th>published_timestamp</th>\n",
              "      <th>subject</th>\n",
              "    </tr>\n",
              "  </thead>\n",
              "  <tbody>\n",
              "    <tr>\n",
              "      <th>0</th>\n",
              "      <td>0</td>\n",
              "      <td>41295.0</td>\n",
              "      <td>learn html5 programming from scratch</td>\n",
              "      <td>https://www.udemy.com/learn-html5-programming-...</td>\n",
              "      <td>0.0</td>\n",
              "      <td>268923.0</td>\n",
              "      <td>8629.0</td>\n",
              "      <td>45.0</td>\n",
              "      <td>Beginner Level</td>\n",
              "      <td>0.82</td>\n",
              "      <td>10.5</td>\n",
              "      <td>2013-02-14T07:03:41Z</td>\n",
              "      <td>Subject: Web Development</td>\n",
              "    </tr>\n",
              "    <tr>\n",
              "      <th>1</th>\n",
              "      <td>1</td>\n",
              "      <td>59014.0</td>\n",
              "      <td>coding for entrepreneurs basic</td>\n",
              "      <td>https://www.udemy.com/coding-for-entrepreneurs...</td>\n",
              "      <td>0.0</td>\n",
              "      <td>161029.0</td>\n",
              "      <td>279.0</td>\n",
              "      <td>27.0</td>\n",
              "      <td>Expert Level</td>\n",
              "      <td>0.69</td>\n",
              "      <td>3.5</td>\n",
              "      <td>2013-06-09T15:51:55Z</td>\n",
              "      <td>Subject: Web Development</td>\n",
              "    </tr>\n",
              "    <tr>\n",
              "      <th>2</th>\n",
              "      <td>2</td>\n",
              "      <td>625204.0</td>\n",
              "      <td>the web developer bootcamp</td>\n",
              "      <td>https://www.udemy.com/the-web-developer-bootcamp/</td>\n",
              "      <td>200.0</td>\n",
              "      <td>121584.0</td>\n",
              "      <td>27445.0</td>\n",
              "      <td>342.0</td>\n",
              "      <td>Beginner Level</td>\n",
              "      <td>0.89</td>\n",
              "      <td>43.0</td>\n",
              "      <td>2015-11-02T21:13:27Z</td>\n",
              "      <td>Subject: Web Development</td>\n",
              "    </tr>\n",
              "    <tr>\n",
              "      <th>3</th>\n",
              "      <td>3</td>\n",
              "      <td>173548.0</td>\n",
              "      <td>build your first website in 1 week with html5 ...</td>\n",
              "      <td>https://www.udemy.com/build-your-first-website...</td>\n",
              "      <td>0.0</td>\n",
              "      <td>120291.0</td>\n",
              "      <td>5924.0</td>\n",
              "      <td>30.0</td>\n",
              "      <td>All Levels</td>\n",
              "      <td>0.78</td>\n",
              "      <td>3.0</td>\n",
              "      <td>2014-04-08T16:21:30Z</td>\n",
              "      <td>Subject: Web Development</td>\n",
              "    </tr>\n",
              "    <tr>\n",
              "      <th>4</th>\n",
              "      <td>4</td>\n",
              "      <td>764164.0</td>\n",
              "      <td>the complete web developer course 2.0</td>\n",
              "      <td>https://www.udemy.com/the-complete-web-develop...</td>\n",
              "      <td>200.0</td>\n",
              "      <td>114512.0</td>\n",
              "      <td>22412.0</td>\n",
              "      <td>304.0</td>\n",
              "      <td>Beginner Level</td>\n",
              "      <td>0.55</td>\n",
              "      <td>30.5</td>\n",
              "      <td>2016-03-08T22:28:36Z</td>\n",
              "      <td>Subject: Web Development</td>\n",
              "    </tr>\n",
              "  </tbody>\n",
              "</table>\n",
              "</div>\n",
              "      <button class=\"colab-df-convert\" onclick=\"convertToInteractive('df-71ab797d-d406-4b21-907a-d58a4ccf9e11')\"\n",
              "              title=\"Convert this dataframe to an interactive table.\"\n",
              "              style=\"display:none;\">\n",
              "        \n",
              "  <svg xmlns=\"http://www.w3.org/2000/svg\" height=\"24px\"viewBox=\"0 0 24 24\"\n",
              "       width=\"24px\">\n",
              "    <path d=\"M0 0h24v24H0V0z\" fill=\"none\"/>\n",
              "    <path d=\"M18.56 5.44l.94 2.06.94-2.06 2.06-.94-2.06-.94-.94-2.06-.94 2.06-2.06.94zm-11 1L8.5 8.5l.94-2.06 2.06-.94-2.06-.94L8.5 2.5l-.94 2.06-2.06.94zm10 10l.94 2.06.94-2.06 2.06-.94-2.06-.94-.94-2.06-.94 2.06-2.06.94z\"/><path d=\"M17.41 7.96l-1.37-1.37c-.4-.4-.92-.59-1.43-.59-.52 0-1.04.2-1.43.59L10.3 9.45l-7.72 7.72c-.78.78-.78 2.05 0 2.83L4 21.41c.39.39.9.59 1.41.59.51 0 1.02-.2 1.41-.59l7.78-7.78 2.81-2.81c.8-.78.8-2.07 0-2.86zM5.41 20L4 18.59l7.72-7.72 1.47 1.35L5.41 20z\"/>\n",
              "  </svg>\n",
              "      </button>\n",
              "      \n",
              "  <style>\n",
              "    .colab-df-container {\n",
              "      display:flex;\n",
              "      flex-wrap:wrap;\n",
              "      gap: 12px;\n",
              "    }\n",
              "\n",
              "    .colab-df-convert {\n",
              "      background-color: #E8F0FE;\n",
              "      border: none;\n",
              "      border-radius: 50%;\n",
              "      cursor: pointer;\n",
              "      display: none;\n",
              "      fill: #1967D2;\n",
              "      height: 32px;\n",
              "      padding: 0 0 0 0;\n",
              "      width: 32px;\n",
              "    }\n",
              "\n",
              "    .colab-df-convert:hover {\n",
              "      background-color: #E2EBFA;\n",
              "      box-shadow: 0px 1px 2px rgba(60, 64, 67, 0.3), 0px 1px 3px 1px rgba(60, 64, 67, 0.15);\n",
              "      fill: #174EA6;\n",
              "    }\n",
              "\n",
              "    [theme=dark] .colab-df-convert {\n",
              "      background-color: #3B4455;\n",
              "      fill: #D2E3FC;\n",
              "    }\n",
              "\n",
              "    [theme=dark] .colab-df-convert:hover {\n",
              "      background-color: #434B5C;\n",
              "      box-shadow: 0px 1px 3px 1px rgba(0, 0, 0, 0.15);\n",
              "      filter: drop-shadow(0px 1px 2px rgba(0, 0, 0, 0.3));\n",
              "      fill: #FFFFFF;\n",
              "    }\n",
              "  </style>\n",
              "\n",
              "      <script>\n",
              "        const buttonEl =\n",
              "          document.querySelector('#df-71ab797d-d406-4b21-907a-d58a4ccf9e11 button.colab-df-convert');\n",
              "        buttonEl.style.display =\n",
              "          google.colab.kernel.accessAllowed ? 'block' : 'none';\n",
              "\n",
              "        async function convertToInteractive(key) {\n",
              "          const element = document.querySelector('#df-71ab797d-d406-4b21-907a-d58a4ccf9e11');\n",
              "          const dataTable =\n",
              "            await google.colab.kernel.invokeFunction('convertToInteractive',\n",
              "                                                     [key], {});\n",
              "          if (!dataTable) return;\n",
              "\n",
              "          const docLinkHtml = 'Like what you see? Visit the ' +\n",
              "            '<a target=\"_blank\" href=https://colab.research.google.com/notebooks/data_table.ipynb>data table notebook</a>'\n",
              "            + ' to learn more about interactive tables.';\n",
              "          element.innerHTML = '';\n",
              "          dataTable['output_type'] = 'display_data';\n",
              "          await google.colab.output.renderOutput(dataTable, element);\n",
              "          const docLink = document.createElement('div');\n",
              "          docLink.innerHTML = docLinkHtml;\n",
              "          element.appendChild(docLink);\n",
              "        }\n",
              "      </script>\n",
              "    </div>\n",
              "  </div>\n",
              "  "
            ]
          },
          "metadata": {},
          "execution_count": 22
        }
      ]
    },
    {
      "cell_type": "markdown",
      "source": [
        "5. Dos cinco cursos mais populares em termos de inscritos, mostre o **rate médio**, **máximo** e **mínimo** de cada um deles."
      ],
      "metadata": {
        "id": "VIN541HgpEwf"
      }
    },
    {
      "cell_type": "code",
      "source": [
        "maximo = inscritos[\"Rating\"].max()\n",
        "minimo = inscritos[\"Rating\"].min()\n",
        "medio = np.round(inscritos[\"Rating\"].mean(), 3)\n",
        "\n",
        "\n",
        "print(f\"O valor máximo é de {maximo}, o mínimo é de {minimo} e a média deles é de {medio}.\")"
      ],
      "metadata": {
        "id": "OHt_xYF2pfb5",
        "colab": {
          "base_uri": "https://localhost:8080/"
        },
        "outputId": "9149d35a-a706-4a8f-cf0b-6a8a593edfd6"
      },
      "execution_count": 25,
      "outputs": [
        {
          "output_type": "stream",
          "name": "stdout",
          "text": [
            "O valor máximo é de 1.0, o mínimo é de 0.0 e a média deles é de 0.611.\n"
          ]
        }
      ]
    },
    {
      "cell_type": "markdown",
      "source": [
        "6. Apresente os dez cursos mais visualizados na plataforma."
      ],
      "metadata": {
        "id": "PBMQyyHTpZ1x"
      }
    },
    {
      "cell_type": "code",
      "source": [
        "visualizacoes = op_cursos.sort_values(by='num_reviews', ascending=False).reset_index().head(10)\n",
        "\n",
        "print(f\"Os dez cursos mais visualizados são: {visualizacoes}\")"
      ],
      "metadata": {
        "id": "hX7kvC5OqYVt",
        "colab": {
          "base_uri": "https://localhost:8080/"
        },
        "outputId": "8d153b97-bda5-434a-b975-8b7fc8a00071"
      },
      "execution_count": 29,
      "outputs": [
        {
          "output_type": "stream",
          "name": "stdout",
          "text": [
            "Os dez cursos mais visualizados são:    index  course_id                                       course_title  \\\n",
            "0      2   625204.0                         the web developer bootcamp   \n",
            "1      4   764164.0              the complete web developer course 2.0   \n",
            "2      9   756150.0  angular 4 (formerly angular 2) - the complete ...   \n",
            "3      8   364426.0          javascript: understanding the weird parts   \n",
            "4     21   705264.0                            modern react with redux   \n",
            "5     16   289230.0                     learn and understand angularjs   \n",
            "6     17   461160.0                        learn and understand nodejs   \n",
            "7      0    41295.0               learn html5 programming from scratch   \n",
            "8     28   719002.0  angular 2 with typescript for beginners: the p...   \n",
            "9      1   238934.0  pianoforall - incredible new way to learn pian...   \n",
            "\n",
            "                                                 url  price  num_subscribers  \\\n",
            "0  https://www.udemy.com/the-web-developer-bootcamp/  200.0         121584.0   \n",
            "1  https://www.udemy.com/the-complete-web-develop...  200.0         114512.0   \n",
            "2  https://www.udemy.com/the-complete-guide-to-an...  190.0          73783.0   \n",
            "3       https://www.udemy.com/understand-javascript/  175.0          79612.0   \n",
            "4                 https://www.udemy.com/react-redux/  180.0          50815.0   \n",
            "5             https://www.udemy.com/learn-angularjs/  175.0          59361.0   \n",
            "6           https://www.udemy.com/understand-nodejs/  195.0          58208.0   \n",
            "7  https://www.udemy.com/learn-html5-programming-...    0.0         268923.0   \n",
            "8  https://www.udemy.com/angular-2-tutorial-for-b...  150.0          40070.0   \n",
            "9  https://www.udemy.com/pianoforall-incredible-n...  200.0          75499.0   \n",
            "\n",
            "   num_reviews  num_lectures           level  Rating  content_duration  \\\n",
            "0      27445.0         342.0  Beginner Level    0.89              43.0   \n",
            "1      22412.0         304.0  Beginner Level    0.55              30.5   \n",
            "2      19649.0         329.0  Beginner Level    0.90              22.0   \n",
            "3      16976.0          85.0      All Levels    0.69              11.5   \n",
            "4      15117.0         150.0      All Levels    0.62              26.5   \n",
            "5      11580.0          55.0  Beginner Level    0.87               7.0   \n",
            "6      11123.0          98.0  Beginner Level    0.73              13.0   \n",
            "7       8629.0          45.0  Beginner Level    0.82              10.5   \n",
            "8       8341.0         194.0      All Levels    0.74               9.5   \n",
            "9       7676.0         362.0  Beginner Level    0.96              30.0   \n",
            "\n",
            "    published_timestamp                   subject  \n",
            "0  2015-11-02T21:13:27Z  Subject: Web Development  \n",
            "1  2016-03-08T22:28:36Z  Subject: Web Development  \n",
            "2  2016-02-11T07:29:29Z  Subject: Web Development  \n",
            "3  2015-03-12T23:19:54Z  Subject: Web Development  \n",
            "4  2015-12-28T19:20:21Z  Subject: Web Development  \n",
            "5  2014-09-24T00:57:25Z  Subject: Web Development  \n",
            "6  2015-08-31T21:07:48Z  Subject: Web Development  \n",
            "7  2013-02-14T07:03:41Z  Subject: Web Development  \n",
            "8  2016-03-03T20:17:59Z  Subject: Web Development  \n",
            "9  2014-08-07T06:27:51Z       Musical Instruments  \n"
          ]
        }
      ]
    },
    {
      "cell_type": "markdown",
      "source": [
        "7. A partir dos dez cursos mais vistos, mostre: 1) qual tem o maior número de inscritos; 2) qual tem o maior **rate** (avaliação do curso)."
      ],
      "metadata": {
        "id": "r4bFZBMIpqlu"
      }
    },
    {
      "cell_type": "code",
      "source": [
        "inscritos = visualizacoes.sort_values(by=\"num_subscribers\", ascending = False).reset_index()\n",
        "maior_num = [inscritos[\"course_title\"][0]]\n",
        "inscritos = visualizacoes[\"num_subscribers\"].max()\n",
        "\n",
        "print(f\"O curso com maior número de inscritos é {maior_num} e tem um total de {inscritos}.\")"
      ],
      "metadata": {
        "id": "TAjdWgV6qXuW",
        "colab": {
          "base_uri": "https://localhost:8080/"
        },
        "outputId": "47a1d549-d600-44ed-e997-f8a97dcd45e8"
      },
      "execution_count": 33,
      "outputs": [
        {
          "output_type": "stream",
          "name": "stdout",
          "text": [
            "O curso com maior número de inscritos é ['learn html5 programming from scratch'] e tem um total de 268923.0.\n"
          ]
        }
      ]
    },
    {
      "cell_type": "markdown",
      "source": [
        "8. Dos cursos listados na base de dados, qual tem maior duração em horas?"
      ],
      "metadata": {
        "id": "Gao_HBG1qZY9"
      }
    },
    {
      "cell_type": "code",
      "source": [
        "horas_curso = op_cursos.sort_values(by =  \"content_duration\", ascending = False).reset_index()\n",
        "curso_maish = horas_curso[\"course_title\"][0]\n",
        "tempo = horas_curso[\"content_duration\"][0]\n",
        "\n",
        "print(f\"O curso {curso_maish} é o que tem maior duração, sendo {tempo} a sua duração.\")"
      ],
      "metadata": {
        "id": "MvSGEfH9qqQK",
        "colab": {
          "base_uri": "https://localhost:8080/"
        },
        "outputId": "3b24dd05-aaba-4e19-b733-0eaa19a9d3b4"
      },
      "execution_count": 35,
      "outputs": [
        {
          "output_type": "stream",
          "name": "stdout",
          "text": [
            "O curso the complete figure drawing course hd é o que tem maior duração, sendo 78.5 a sua duração.\n"
          ]
        }
      ]
    },
    {
      "cell_type": "markdown",
      "source": [
        "9. Dos cursos listados na base de dados, qual tem o maior número de aulas (*lectures*)?"
      ],
      "metadata": {
        "id": "69Evu8BLqrS_"
      }
    },
    {
      "cell_type": "code",
      "source": [
        "qtd_aulas = op_cursos[\"num_lectures\"].max()\n",
        "\n",
        "print(f\"O curso com o maior número de aulas é o Back to School Web Development and Programming com {qtd_aulas} aulas.\")"
      ],
      "metadata": {
        "id": "5uqzhyXmqge0",
        "colab": {
          "base_uri": "https://localhost:8080/"
        },
        "outputId": "d87d5c47-6607-447a-adc7-1ce1752f5214"
      },
      "execution_count": 39,
      "outputs": [
        {
          "output_type": "stream",
          "name": "stdout",
          "text": [
            "O curso com o maior número de aulas é o Back to School Web Development and Programming com 779.0 aulas.\n"
          ]
        }
      ]
    },
    {
      "cell_type": "markdown",
      "source": [
        "10. Apresente o número (contagem) de cursos agrupados por nível (coluna *level*)."
      ],
      "metadata": {
        "id": "wVg9qj3WrD5h"
      }
    },
    {
      "cell_type": "code",
      "source": [
        "cursos_agrupados = op_cursos.groupby(by = \"level\").count().reset_index()\n",
        "\n",
        "print(f\"O número de cursos agrupados é: {cursos_agrupados}.\")"
      ],
      "metadata": {
        "id": "7KyIy5m3rSoI",
        "colab": {
          "base_uri": "https://localhost:8080/"
        },
        "outputId": "a984c64f-3ac9-431c-b034-c01929ea1e78"
      },
      "execution_count": 42,
      "outputs": [
        {
          "output_type": "stream",
          "name": "stdout",
          "text": [
            "O número de cursos agrupados é:                 level  course_id  course_title   url  price  num_subscribers  \\\n",
            "0          All Levels       1925          1925  1925   1925             1925   \n",
            "1      Beginner Level       1271          1271  1271   1271             1271   \n",
            "2        Expert Level         58            58    58     58               58   \n",
            "3  Intermediate Level        422           422   422    422              422   \n",
            "\n",
            "   num_reviews  num_lectures  Rating  content_duration  published_timestamp  \\\n",
            "0         1925          1925    1925              1925                 1925   \n",
            "1         1271          1271    1271              1271                 1271   \n",
            "2           58            58      58                58                   58   \n",
            "3          422           422     422               422                  422   \n",
            "\n",
            "   subject  \n",
            "0     1925  \n",
            "1     1271  \n",
            "2       58  \n",
            "3      422  .\n"
          ]
        }
      ]
    },
    {
      "cell_type": "markdown",
      "source": [
        "11. Quais são os cursos mais recentes contidos na base de dados?"
      ],
      "metadata": {
        "id": "xPzjlE_crTJY"
      }
    },
    {
      "cell_type": "code",
      "source": [
        "recentes = op_cursos.sort_values(by = \"published_timestamp\", ascending = False).reset_index()\n",
        "recentes.head()"
      ],
      "metadata": {
        "id": "nK_H8JxYrYWZ",
        "colab": {
          "base_uri": "https://localhost:8080/",
          "height": 513
        },
        "outputId": "e9e188ad-f851-4a9c-93f6-793e09769a0d"
      },
      "execution_count": 43,
      "outputs": [
        {
          "output_type": "execute_result",
          "data": {
            "text/plain": [
              "   index  course_id                                       course_title  \\\n",
              "0   1183  1282064.0  cryptocurrency (btc & eth) investment & tradin...   \n",
              "1   1164  1187084.0  forex how traders beat the markest with little...   \n",
              "2   1027  1268616.0  condor broken wing butterfly options trading c...   \n",
              "3    669  1265814.0  abrsm grade iii piano class - handel sonatina ...   \n",
              "4   1201  1277924.0                            angular 4 front to back   \n",
              "\n",
              "                                                 url  price  num_subscribers  \\\n",
              "0  https://www.udemy.com/cryptocurrency-btc-eth-i...   20.0              0.0   \n",
              "1  https://www.udemy.com/forex-how-traders-beat-t...  100.0              0.0   \n",
              "2  https://www.udemy.com/condor-broken-wing-butte...    0.0             16.0   \n",
              "3  https://www.udemy.com/abrsm-grade-iii-piano-cl...   20.0              0.0   \n",
              "4     https://www.udemy.com/angular-4-front-to-back/   40.0             44.0   \n",
              "\n",
              "   num_reviews  num_lectures           level  Rating  content_duration  \\\n",
              "0          0.0           7.0      All Levels    0.95          2.500000   \n",
              "1          0.0          16.0      All Levels    0.15          1.000000   \n",
              "2          0.0          15.0      All Levels    0.20          1.500000   \n",
              "3          0.0           5.0  Beginner Level    0.34          0.516667   \n",
              "4          0.0          68.0      All Levels    0.15          8.500000   \n",
              "\n",
              "    published_timestamp                   subject  \n",
              "0  2017-07-06T21:46:30Z          Business Finance  \n",
              "1  2017-07-06T21:16:13Z          Business Finance  \n",
              "2  2017-07-06T19:47:16Z          Business Finance  \n",
              "3  2017-07-06T16:12:34Z       Musical Instruments  \n",
              "4  2017-07-06T15:04:55Z  Subject: Web Development  "
            ],
            "text/html": [
              "\n",
              "  <div id=\"df-f2fa503e-6830-4e40-b355-c458e04cf30a\">\n",
              "    <div class=\"colab-df-container\">\n",
              "      <div>\n",
              "<style scoped>\n",
              "    .dataframe tbody tr th:only-of-type {\n",
              "        vertical-align: middle;\n",
              "    }\n",
              "\n",
              "    .dataframe tbody tr th {\n",
              "        vertical-align: top;\n",
              "    }\n",
              "\n",
              "    .dataframe thead th {\n",
              "        text-align: right;\n",
              "    }\n",
              "</style>\n",
              "<table border=\"1\" class=\"dataframe\">\n",
              "  <thead>\n",
              "    <tr style=\"text-align: right;\">\n",
              "      <th></th>\n",
              "      <th>index</th>\n",
              "      <th>course_id</th>\n",
              "      <th>course_title</th>\n",
              "      <th>url</th>\n",
              "      <th>price</th>\n",
              "      <th>num_subscribers</th>\n",
              "      <th>num_reviews</th>\n",
              "      <th>num_lectures</th>\n",
              "      <th>level</th>\n",
              "      <th>Rating</th>\n",
              "      <th>content_duration</th>\n",
              "      <th>published_timestamp</th>\n",
              "      <th>subject</th>\n",
              "    </tr>\n",
              "  </thead>\n",
              "  <tbody>\n",
              "    <tr>\n",
              "      <th>0</th>\n",
              "      <td>1183</td>\n",
              "      <td>1282064.0</td>\n",
              "      <td>cryptocurrency (btc &amp; eth) investment &amp; tradin...</td>\n",
              "      <td>https://www.udemy.com/cryptocurrency-btc-eth-i...</td>\n",
              "      <td>20.0</td>\n",
              "      <td>0.0</td>\n",
              "      <td>0.0</td>\n",
              "      <td>7.0</td>\n",
              "      <td>All Levels</td>\n",
              "      <td>0.95</td>\n",
              "      <td>2.500000</td>\n",
              "      <td>2017-07-06T21:46:30Z</td>\n",
              "      <td>Business Finance</td>\n",
              "    </tr>\n",
              "    <tr>\n",
              "      <th>1</th>\n",
              "      <td>1164</td>\n",
              "      <td>1187084.0</td>\n",
              "      <td>forex how traders beat the markest with little...</td>\n",
              "      <td>https://www.udemy.com/forex-how-traders-beat-t...</td>\n",
              "      <td>100.0</td>\n",
              "      <td>0.0</td>\n",
              "      <td>0.0</td>\n",
              "      <td>16.0</td>\n",
              "      <td>All Levels</td>\n",
              "      <td>0.15</td>\n",
              "      <td>1.000000</td>\n",
              "      <td>2017-07-06T21:16:13Z</td>\n",
              "      <td>Business Finance</td>\n",
              "    </tr>\n",
              "    <tr>\n",
              "      <th>2</th>\n",
              "      <td>1027</td>\n",
              "      <td>1268616.0</td>\n",
              "      <td>condor broken wing butterfly options trading c...</td>\n",
              "      <td>https://www.udemy.com/condor-broken-wing-butte...</td>\n",
              "      <td>0.0</td>\n",
              "      <td>16.0</td>\n",
              "      <td>0.0</td>\n",
              "      <td>15.0</td>\n",
              "      <td>All Levels</td>\n",
              "      <td>0.20</td>\n",
              "      <td>1.500000</td>\n",
              "      <td>2017-07-06T19:47:16Z</td>\n",
              "      <td>Business Finance</td>\n",
              "    </tr>\n",
              "    <tr>\n",
              "      <th>3</th>\n",
              "      <td>669</td>\n",
              "      <td>1265814.0</td>\n",
              "      <td>abrsm grade iii piano class - handel sonatina ...</td>\n",
              "      <td>https://www.udemy.com/abrsm-grade-iii-piano-cl...</td>\n",
              "      <td>20.0</td>\n",
              "      <td>0.0</td>\n",
              "      <td>0.0</td>\n",
              "      <td>5.0</td>\n",
              "      <td>Beginner Level</td>\n",
              "      <td>0.34</td>\n",
              "      <td>0.516667</td>\n",
              "      <td>2017-07-06T16:12:34Z</td>\n",
              "      <td>Musical Instruments</td>\n",
              "    </tr>\n",
              "    <tr>\n",
              "      <th>4</th>\n",
              "      <td>1201</td>\n",
              "      <td>1277924.0</td>\n",
              "      <td>angular 4 front to back</td>\n",
              "      <td>https://www.udemy.com/angular-4-front-to-back/</td>\n",
              "      <td>40.0</td>\n",
              "      <td>44.0</td>\n",
              "      <td>0.0</td>\n",
              "      <td>68.0</td>\n",
              "      <td>All Levels</td>\n",
              "      <td>0.15</td>\n",
              "      <td>8.500000</td>\n",
              "      <td>2017-07-06T15:04:55Z</td>\n",
              "      <td>Subject: Web Development</td>\n",
              "    </tr>\n",
              "  </tbody>\n",
              "</table>\n",
              "</div>\n",
              "      <button class=\"colab-df-convert\" onclick=\"convertToInteractive('df-f2fa503e-6830-4e40-b355-c458e04cf30a')\"\n",
              "              title=\"Convert this dataframe to an interactive table.\"\n",
              "              style=\"display:none;\">\n",
              "        \n",
              "  <svg xmlns=\"http://www.w3.org/2000/svg\" height=\"24px\"viewBox=\"0 0 24 24\"\n",
              "       width=\"24px\">\n",
              "    <path d=\"M0 0h24v24H0V0z\" fill=\"none\"/>\n",
              "    <path d=\"M18.56 5.44l.94 2.06.94-2.06 2.06-.94-2.06-.94-.94-2.06-.94 2.06-2.06.94zm-11 1L8.5 8.5l.94-2.06 2.06-.94-2.06-.94L8.5 2.5l-.94 2.06-2.06.94zm10 10l.94 2.06.94-2.06 2.06-.94-2.06-.94-.94-2.06-.94 2.06-2.06.94z\"/><path d=\"M17.41 7.96l-1.37-1.37c-.4-.4-.92-.59-1.43-.59-.52 0-1.04.2-1.43.59L10.3 9.45l-7.72 7.72c-.78.78-.78 2.05 0 2.83L4 21.41c.39.39.9.59 1.41.59.51 0 1.02-.2 1.41-.59l7.78-7.78 2.81-2.81c.8-.78.8-2.07 0-2.86zM5.41 20L4 18.59l7.72-7.72 1.47 1.35L5.41 20z\"/>\n",
              "  </svg>\n",
              "      </button>\n",
              "      \n",
              "  <style>\n",
              "    .colab-df-container {\n",
              "      display:flex;\n",
              "      flex-wrap:wrap;\n",
              "      gap: 12px;\n",
              "    }\n",
              "\n",
              "    .colab-df-convert {\n",
              "      background-color: #E8F0FE;\n",
              "      border: none;\n",
              "      border-radius: 50%;\n",
              "      cursor: pointer;\n",
              "      display: none;\n",
              "      fill: #1967D2;\n",
              "      height: 32px;\n",
              "      padding: 0 0 0 0;\n",
              "      width: 32px;\n",
              "    }\n",
              "\n",
              "    .colab-df-convert:hover {\n",
              "      background-color: #E2EBFA;\n",
              "      box-shadow: 0px 1px 2px rgba(60, 64, 67, 0.3), 0px 1px 3px 1px rgba(60, 64, 67, 0.15);\n",
              "      fill: #174EA6;\n",
              "    }\n",
              "\n",
              "    [theme=dark] .colab-df-convert {\n",
              "      background-color: #3B4455;\n",
              "      fill: #D2E3FC;\n",
              "    }\n",
              "\n",
              "    [theme=dark] .colab-df-convert:hover {\n",
              "      background-color: #434B5C;\n",
              "      box-shadow: 0px 1px 3px 1px rgba(0, 0, 0, 0.15);\n",
              "      filter: drop-shadow(0px 1px 2px rgba(0, 0, 0, 0.3));\n",
              "      fill: #FFFFFF;\n",
              "    }\n",
              "  </style>\n",
              "\n",
              "      <script>\n",
              "        const buttonEl =\n",
              "          document.querySelector('#df-f2fa503e-6830-4e40-b355-c458e04cf30a button.colab-df-convert');\n",
              "        buttonEl.style.display =\n",
              "          google.colab.kernel.accessAllowed ? 'block' : 'none';\n",
              "\n",
              "        async function convertToInteractive(key) {\n",
              "          const element = document.querySelector('#df-f2fa503e-6830-4e40-b355-c458e04cf30a');\n",
              "          const dataTable =\n",
              "            await google.colab.kernel.invokeFunction('convertToInteractive',\n",
              "                                                     [key], {});\n",
              "          if (!dataTable) return;\n",
              "\n",
              "          const docLinkHtml = 'Like what you see? Visit the ' +\n",
              "            '<a target=\"_blank\" href=https://colab.research.google.com/notebooks/data_table.ipynb>data table notebook</a>'\n",
              "            + ' to learn more about interactive tables.';\n",
              "          element.innerHTML = '';\n",
              "          dataTable['output_type'] = 'display_data';\n",
              "          await google.colab.output.renderOutput(dataTable, element);\n",
              "          const docLink = document.createElement('div');\n",
              "          docLink.innerHTML = docLinkHtml;\n",
              "          element.appendChild(docLink);\n",
              "        }\n",
              "      </script>\n",
              "    </div>\n",
              "  </div>\n",
              "  "
            ]
          },
          "metadata": {},
          "execution_count": 43
        }
      ]
    },
    {
      "cell_type": "markdown",
      "source": [
        "12. Apresente o número (contagem) de cursos agrupados por nível (coluna *level*) e por assunto (coluna *subject*)."
      ],
      "metadata": {
        "id": "cwzez2xhsYLa"
      }
    },
    {
      "cell_type": "code",
      "source": [
        "agrupados = op_cursos.groupby(by = [\"level\", \"subject\"]).count().reset_index()\n",
        "agrupados"
      ],
      "metadata": {
        "id": "7BXn9iPmsoCm",
        "colab": {
          "base_uri": "https://localhost:8080/",
          "height": 962
        },
        "outputId": "5c537144-1d8f-4061-cdcf-83cb575a3a27"
      },
      "execution_count": 44,
      "outputs": [
        {
          "output_type": "execute_result",
          "data": {
            "text/plain": [
              "                 level                   subject  course_id  course_title  \\\n",
              "0           All Levels          Business Finance        633           633   \n",
              "1           All Levels            Graphic Design        335           335   \n",
              "2           All Levels       Musical Instruments        324           324   \n",
              "3           All Levels  Subject: Web Development        633           633   \n",
              "4       Beginner Level          Business Finance        399           399   \n",
              "5       Beginner Level            Graphic Design        184           184   \n",
              "6       Beginner Level       Musical Instruments        266           266   \n",
              "7       Beginner Level  Subject: Web Development        422           422   \n",
              "8         Expert Level          Business Finance         25            25   \n",
              "9         Expert Level            Graphic Design          7             7   \n",
              "10        Expert Level       Musical Instruments         12            12   \n",
              "11        Expert Level  Subject: Web Development         14            14   \n",
              "12  Intermediate Level          Business Finance        134           134   \n",
              "13  Intermediate Level            Graphic Design         76            76   \n",
              "14  Intermediate Level       Musical Instruments         78            78   \n",
              "15  Intermediate Level  Subject: Web Development        134           134   \n",
              "\n",
              "    url  price  num_subscribers  num_reviews  num_lectures  Rating  \\\n",
              "0   633    633              633          633           633     633   \n",
              "1   335    335              335          335           335     335   \n",
              "2   324    324              324          324           324     324   \n",
              "3   633    633              633          633           633     633   \n",
              "4   399    399              399          399           399     399   \n",
              "5   184    184              184          184           184     184   \n",
              "6   266    266              266          266           266     266   \n",
              "7   422    422              422          422           422     422   \n",
              "8    25     25               25           25            25      25   \n",
              "9     7      7                7            7             7       7   \n",
              "10   12     12               12           12            12      12   \n",
              "11   14     14               14           14            14      14   \n",
              "12  134    134              134          134           134     134   \n",
              "13   76     76               76           76            76      76   \n",
              "14   78     78               78           78            78      78   \n",
              "15  134    134              134          134           134     134   \n",
              "\n",
              "    content_duration  published_timestamp  \n",
              "0                633                  633  \n",
              "1                335                  335  \n",
              "2                324                  324  \n",
              "3                633                  633  \n",
              "4                399                  399  \n",
              "5                184                  184  \n",
              "6                266                  266  \n",
              "7                422                  422  \n",
              "8                 25                   25  \n",
              "9                  7                    7  \n",
              "10                12                   12  \n",
              "11                14                   14  \n",
              "12               134                  134  \n",
              "13                76                   76  \n",
              "14                78                   78  \n",
              "15               134                  134  "
            ],
            "text/html": [
              "\n",
              "  <div id=\"df-9e9cda36-0cd6-4067-95f7-58f44e0ee82f\">\n",
              "    <div class=\"colab-df-container\">\n",
              "      <div>\n",
              "<style scoped>\n",
              "    .dataframe tbody tr th:only-of-type {\n",
              "        vertical-align: middle;\n",
              "    }\n",
              "\n",
              "    .dataframe tbody tr th {\n",
              "        vertical-align: top;\n",
              "    }\n",
              "\n",
              "    .dataframe thead th {\n",
              "        text-align: right;\n",
              "    }\n",
              "</style>\n",
              "<table border=\"1\" class=\"dataframe\">\n",
              "  <thead>\n",
              "    <tr style=\"text-align: right;\">\n",
              "      <th></th>\n",
              "      <th>level</th>\n",
              "      <th>subject</th>\n",
              "      <th>course_id</th>\n",
              "      <th>course_title</th>\n",
              "      <th>url</th>\n",
              "      <th>price</th>\n",
              "      <th>num_subscribers</th>\n",
              "      <th>num_reviews</th>\n",
              "      <th>num_lectures</th>\n",
              "      <th>Rating</th>\n",
              "      <th>content_duration</th>\n",
              "      <th>published_timestamp</th>\n",
              "    </tr>\n",
              "  </thead>\n",
              "  <tbody>\n",
              "    <tr>\n",
              "      <th>0</th>\n",
              "      <td>All Levels</td>\n",
              "      <td>Business Finance</td>\n",
              "      <td>633</td>\n",
              "      <td>633</td>\n",
              "      <td>633</td>\n",
              "      <td>633</td>\n",
              "      <td>633</td>\n",
              "      <td>633</td>\n",
              "      <td>633</td>\n",
              "      <td>633</td>\n",
              "      <td>633</td>\n",
              "      <td>633</td>\n",
              "    </tr>\n",
              "    <tr>\n",
              "      <th>1</th>\n",
              "      <td>All Levels</td>\n",
              "      <td>Graphic Design</td>\n",
              "      <td>335</td>\n",
              "      <td>335</td>\n",
              "      <td>335</td>\n",
              "      <td>335</td>\n",
              "      <td>335</td>\n",
              "      <td>335</td>\n",
              "      <td>335</td>\n",
              "      <td>335</td>\n",
              "      <td>335</td>\n",
              "      <td>335</td>\n",
              "    </tr>\n",
              "    <tr>\n",
              "      <th>2</th>\n",
              "      <td>All Levels</td>\n",
              "      <td>Musical Instruments</td>\n",
              "      <td>324</td>\n",
              "      <td>324</td>\n",
              "      <td>324</td>\n",
              "      <td>324</td>\n",
              "      <td>324</td>\n",
              "      <td>324</td>\n",
              "      <td>324</td>\n",
              "      <td>324</td>\n",
              "      <td>324</td>\n",
              "      <td>324</td>\n",
              "    </tr>\n",
              "    <tr>\n",
              "      <th>3</th>\n",
              "      <td>All Levels</td>\n",
              "      <td>Subject: Web Development</td>\n",
              "      <td>633</td>\n",
              "      <td>633</td>\n",
              "      <td>633</td>\n",
              "      <td>633</td>\n",
              "      <td>633</td>\n",
              "      <td>633</td>\n",
              "      <td>633</td>\n",
              "      <td>633</td>\n",
              "      <td>633</td>\n",
              "      <td>633</td>\n",
              "    </tr>\n",
              "    <tr>\n",
              "      <th>4</th>\n",
              "      <td>Beginner Level</td>\n",
              "      <td>Business Finance</td>\n",
              "      <td>399</td>\n",
              "      <td>399</td>\n",
              "      <td>399</td>\n",
              "      <td>399</td>\n",
              "      <td>399</td>\n",
              "      <td>399</td>\n",
              "      <td>399</td>\n",
              "      <td>399</td>\n",
              "      <td>399</td>\n",
              "      <td>399</td>\n",
              "    </tr>\n",
              "    <tr>\n",
              "      <th>5</th>\n",
              "      <td>Beginner Level</td>\n",
              "      <td>Graphic Design</td>\n",
              "      <td>184</td>\n",
              "      <td>184</td>\n",
              "      <td>184</td>\n",
              "      <td>184</td>\n",
              "      <td>184</td>\n",
              "      <td>184</td>\n",
              "      <td>184</td>\n",
              "      <td>184</td>\n",
              "      <td>184</td>\n",
              "      <td>184</td>\n",
              "    </tr>\n",
              "    <tr>\n",
              "      <th>6</th>\n",
              "      <td>Beginner Level</td>\n",
              "      <td>Musical Instruments</td>\n",
              "      <td>266</td>\n",
              "      <td>266</td>\n",
              "      <td>266</td>\n",
              "      <td>266</td>\n",
              "      <td>266</td>\n",
              "      <td>266</td>\n",
              "      <td>266</td>\n",
              "      <td>266</td>\n",
              "      <td>266</td>\n",
              "      <td>266</td>\n",
              "    </tr>\n",
              "    <tr>\n",
              "      <th>7</th>\n",
              "      <td>Beginner Level</td>\n",
              "      <td>Subject: Web Development</td>\n",
              "      <td>422</td>\n",
              "      <td>422</td>\n",
              "      <td>422</td>\n",
              "      <td>422</td>\n",
              "      <td>422</td>\n",
              "      <td>422</td>\n",
              "      <td>422</td>\n",
              "      <td>422</td>\n",
              "      <td>422</td>\n",
              "      <td>422</td>\n",
              "    </tr>\n",
              "    <tr>\n",
              "      <th>8</th>\n",
              "      <td>Expert Level</td>\n",
              "      <td>Business Finance</td>\n",
              "      <td>25</td>\n",
              "      <td>25</td>\n",
              "      <td>25</td>\n",
              "      <td>25</td>\n",
              "      <td>25</td>\n",
              "      <td>25</td>\n",
              "      <td>25</td>\n",
              "      <td>25</td>\n",
              "      <td>25</td>\n",
              "      <td>25</td>\n",
              "    </tr>\n",
              "    <tr>\n",
              "      <th>9</th>\n",
              "      <td>Expert Level</td>\n",
              "      <td>Graphic Design</td>\n",
              "      <td>7</td>\n",
              "      <td>7</td>\n",
              "      <td>7</td>\n",
              "      <td>7</td>\n",
              "      <td>7</td>\n",
              "      <td>7</td>\n",
              "      <td>7</td>\n",
              "      <td>7</td>\n",
              "      <td>7</td>\n",
              "      <td>7</td>\n",
              "    </tr>\n",
              "    <tr>\n",
              "      <th>10</th>\n",
              "      <td>Expert Level</td>\n",
              "      <td>Musical Instruments</td>\n",
              "      <td>12</td>\n",
              "      <td>12</td>\n",
              "      <td>12</td>\n",
              "      <td>12</td>\n",
              "      <td>12</td>\n",
              "      <td>12</td>\n",
              "      <td>12</td>\n",
              "      <td>12</td>\n",
              "      <td>12</td>\n",
              "      <td>12</td>\n",
              "    </tr>\n",
              "    <tr>\n",
              "      <th>11</th>\n",
              "      <td>Expert Level</td>\n",
              "      <td>Subject: Web Development</td>\n",
              "      <td>14</td>\n",
              "      <td>14</td>\n",
              "      <td>14</td>\n",
              "      <td>14</td>\n",
              "      <td>14</td>\n",
              "      <td>14</td>\n",
              "      <td>14</td>\n",
              "      <td>14</td>\n",
              "      <td>14</td>\n",
              "      <td>14</td>\n",
              "    </tr>\n",
              "    <tr>\n",
              "      <th>12</th>\n",
              "      <td>Intermediate Level</td>\n",
              "      <td>Business Finance</td>\n",
              "      <td>134</td>\n",
              "      <td>134</td>\n",
              "      <td>134</td>\n",
              "      <td>134</td>\n",
              "      <td>134</td>\n",
              "      <td>134</td>\n",
              "      <td>134</td>\n",
              "      <td>134</td>\n",
              "      <td>134</td>\n",
              "      <td>134</td>\n",
              "    </tr>\n",
              "    <tr>\n",
              "      <th>13</th>\n",
              "      <td>Intermediate Level</td>\n",
              "      <td>Graphic Design</td>\n",
              "      <td>76</td>\n",
              "      <td>76</td>\n",
              "      <td>76</td>\n",
              "      <td>76</td>\n",
              "      <td>76</td>\n",
              "      <td>76</td>\n",
              "      <td>76</td>\n",
              "      <td>76</td>\n",
              "      <td>76</td>\n",
              "      <td>76</td>\n",
              "    </tr>\n",
              "    <tr>\n",
              "      <th>14</th>\n",
              "      <td>Intermediate Level</td>\n",
              "      <td>Musical Instruments</td>\n",
              "      <td>78</td>\n",
              "      <td>78</td>\n",
              "      <td>78</td>\n",
              "      <td>78</td>\n",
              "      <td>78</td>\n",
              "      <td>78</td>\n",
              "      <td>78</td>\n",
              "      <td>78</td>\n",
              "      <td>78</td>\n",
              "      <td>78</td>\n",
              "    </tr>\n",
              "    <tr>\n",
              "      <th>15</th>\n",
              "      <td>Intermediate Level</td>\n",
              "      <td>Subject: Web Development</td>\n",
              "      <td>134</td>\n",
              "      <td>134</td>\n",
              "      <td>134</td>\n",
              "      <td>134</td>\n",
              "      <td>134</td>\n",
              "      <td>134</td>\n",
              "      <td>134</td>\n",
              "      <td>134</td>\n",
              "      <td>134</td>\n",
              "      <td>134</td>\n",
              "    </tr>\n",
              "  </tbody>\n",
              "</table>\n",
              "</div>\n",
              "      <button class=\"colab-df-convert\" onclick=\"convertToInteractive('df-9e9cda36-0cd6-4067-95f7-58f44e0ee82f')\"\n",
              "              title=\"Convert this dataframe to an interactive table.\"\n",
              "              style=\"display:none;\">\n",
              "        \n",
              "  <svg xmlns=\"http://www.w3.org/2000/svg\" height=\"24px\"viewBox=\"0 0 24 24\"\n",
              "       width=\"24px\">\n",
              "    <path d=\"M0 0h24v24H0V0z\" fill=\"none\"/>\n",
              "    <path d=\"M18.56 5.44l.94 2.06.94-2.06 2.06-.94-2.06-.94-.94-2.06-.94 2.06-2.06.94zm-11 1L8.5 8.5l.94-2.06 2.06-.94-2.06-.94L8.5 2.5l-.94 2.06-2.06.94zm10 10l.94 2.06.94-2.06 2.06-.94-2.06-.94-.94-2.06-.94 2.06-2.06.94z\"/><path d=\"M17.41 7.96l-1.37-1.37c-.4-.4-.92-.59-1.43-.59-.52 0-1.04.2-1.43.59L10.3 9.45l-7.72 7.72c-.78.78-.78 2.05 0 2.83L4 21.41c.39.39.9.59 1.41.59.51 0 1.02-.2 1.41-.59l7.78-7.78 2.81-2.81c.8-.78.8-2.07 0-2.86zM5.41 20L4 18.59l7.72-7.72 1.47 1.35L5.41 20z\"/>\n",
              "  </svg>\n",
              "      </button>\n",
              "      \n",
              "  <style>\n",
              "    .colab-df-container {\n",
              "      display:flex;\n",
              "      flex-wrap:wrap;\n",
              "      gap: 12px;\n",
              "    }\n",
              "\n",
              "    .colab-df-convert {\n",
              "      background-color: #E8F0FE;\n",
              "      border: none;\n",
              "      border-radius: 50%;\n",
              "      cursor: pointer;\n",
              "      display: none;\n",
              "      fill: #1967D2;\n",
              "      height: 32px;\n",
              "      padding: 0 0 0 0;\n",
              "      width: 32px;\n",
              "    }\n",
              "\n",
              "    .colab-df-convert:hover {\n",
              "      background-color: #E2EBFA;\n",
              "      box-shadow: 0px 1px 2px rgba(60, 64, 67, 0.3), 0px 1px 3px 1px rgba(60, 64, 67, 0.15);\n",
              "      fill: #174EA6;\n",
              "    }\n",
              "\n",
              "    [theme=dark] .colab-df-convert {\n",
              "      background-color: #3B4455;\n",
              "      fill: #D2E3FC;\n",
              "    }\n",
              "\n",
              "    [theme=dark] .colab-df-convert:hover {\n",
              "      background-color: #434B5C;\n",
              "      box-shadow: 0px 1px 3px 1px rgba(0, 0, 0, 0.15);\n",
              "      filter: drop-shadow(0px 1px 2px rgba(0, 0, 0, 0.3));\n",
              "      fill: #FFFFFF;\n",
              "    }\n",
              "  </style>\n",
              "\n",
              "      <script>\n",
              "        const buttonEl =\n",
              "          document.querySelector('#df-9e9cda36-0cd6-4067-95f7-58f44e0ee82f button.colab-df-convert');\n",
              "        buttonEl.style.display =\n",
              "          google.colab.kernel.accessAllowed ? 'block' : 'none';\n",
              "\n",
              "        async function convertToInteractive(key) {\n",
              "          const element = document.querySelector('#df-9e9cda36-0cd6-4067-95f7-58f44e0ee82f');\n",
              "          const dataTable =\n",
              "            await google.colab.kernel.invokeFunction('convertToInteractive',\n",
              "                                                     [key], {});\n",
              "          if (!dataTable) return;\n",
              "\n",
              "          const docLinkHtml = 'Like what you see? Visit the ' +\n",
              "            '<a target=\"_blank\" href=https://colab.research.google.com/notebooks/data_table.ipynb>data table notebook</a>'\n",
              "            + ' to learn more about interactive tables.';\n",
              "          element.innerHTML = '';\n",
              "          dataTable['output_type'] = 'display_data';\n",
              "          await google.colab.output.renderOutput(dataTable, element);\n",
              "          const docLink = document.createElement('div');\n",
              "          docLink.innerHTML = docLinkHtml;\n",
              "          element.appendChild(docLink);\n",
              "        }\n",
              "      </script>\n",
              "    </div>\n",
              "  </div>\n",
              "  "
            ]
          },
          "metadata": {},
          "execution_count": 44
        }
      ]
    },
    {
      "cell_type": "markdown",
      "source": [
        "13. Disponibilize suas análises em um repositório do Github e compartilhe o link abaixo."
      ],
      "metadata": {
        "id": "UoU_pvOUutMo"
      }
    },
    {
      "cell_type": "code",
      "source": [],
      "metadata": {
        "id": "NjNInZBBu3Rl"
      },
      "execution_count": null,
      "outputs": []
    },
    {
      "cell_type": "markdown",
      "source": [
        "14. Crie uma conta no <a href=\"https://www.kaggle.com/datasets/thedevastator/udemy-courses-revenue-generation-and-course-anal\">Kaggle</a> e crie um Notebook com as análises feitas neste projeto. A ideia aqui, é que você comece a criar um portfólio de análise de dados na plataforma :)"
      ],
      "metadata": {
        "id": "CPKWugdJvXQf"
      }
    },
    {
      "cell_type": "code",
      "source": [],
      "metadata": {
        "id": "YztEtLuqvWRe"
      },
      "execution_count": null,
      "outputs": []
    }
  ]
}